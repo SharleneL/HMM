{
 "cells": [
  {
   "cell_type": "code",
   "execution_count": 7,
   "metadata": {
    "collapsed": false
   },
   "outputs": [
    {
     "name": "stdout",
     "output_type": "stream",
     "text": [
      "HI THI S IS SHALIN BY SLAFD\n"
     ]
    }
   ],
   "source": [
    "import re\n",
    "\n",
    "line = '   hi thi4s Is  shalin 3 23, by 34slafd, '\n",
    "line = re.sub('[^a-zA-Z]+', ' ', line).strip().upper()\n",
    "# line = line.strip().upper()\n",
    "print line"
   ]
  },
  {
   "cell_type": "code",
   "execution_count": 6,
   "metadata": {
    "collapsed": false
   },
   "outputs": [
    {
     "name": "stdout",
     "output_type": "stream",
     "text": [
      "True\n",
      "8\n",
      "2\n",
      "7\n",
      "3\n",
      "r\n",
      "k\n",
      "j\n",
      "s\n",
      "d\n",
      "f\n",
      "h\n",
      "a\n"
     ]
    }
   ],
   "source": [
    "s = '98273rkjsdfha'\n",
    "print 'sd' in s\n",
    "for i in range(1, len(s)):\n",
    "    print s[i]"
   ]
  },
  {
   "cell_type": "code",
   "execution_count": 7,
   "metadata": {
    "collapsed": false
   },
   "outputs": [
    {
     "name": "stdout",
     "output_type": "stream",
     "text": [
      "3\n"
     ]
    }
   ],
   "source": [
    "d = dict()\n",
    "d[1] = 2\n",
    "d[2] = 4\n",
    "d[3] = 1\n",
    "\n",
    "print len(d)"
   ]
  },
  {
   "cell_type": "code",
   "execution_count": 15,
   "metadata": {
    "collapsed": false
   },
   "outputs": [
    {
     "name": "stdout",
     "output_type": "stream",
     "text": [
      "[ 0.  0.  0.  0.  0.]\n",
      "33\n"
     ]
    }
   ],
   "source": [
    "import numpy as np\n",
    "\n",
    "a = np.zeros(5)\n",
    "print a\n",
    "print ord('A') - ord(' ')"
   ]
  },
  {
   "cell_type": "code",
   "execution_count": 18,
   "metadata": {
    "collapsed": false
   },
   "outputs": [
    {
     "name": "stdout",
     "output_type": "stream",
     "text": [
      "65\n",
      "A\n"
     ]
    }
   ],
   "source": [
    "print ord('A')\n",
    "print chr(65)"
   ]
  },
  {
   "cell_type": "code",
   "execution_count": 21,
   "metadata": {
    "collapsed": false
   },
   "outputs": [
    {
     "name": "stdout",
     "output_type": "stream",
     "text": [
      "{' ': 26, 'A': 0, 'C': 2, 'B': 1, 'E': 4, 'D': 3, 'G': 6, 'F': 5, 'I': 8, 'H': 7, 'K': 10, 'J': 9, 'M': 12, 'L': 11, 'O': 14, 'N': 13, 'Q': 16, 'P': 15, 'S': 18, 'R': 17, 'U': 20, 'T': 19, 'W': 22, 'V': 21, 'Y': 24, 'X': 23, 'Z': 25}\n"
     ]
    }
   ],
   "source": [
    "dic = dict()\n",
    "for i in range(26):\n",
    "    dic[chr(65 + i)] = i\n",
    "dic[' '] = 26\n",
    "print dic"
   ]
  },
  {
   "cell_type": "code",
   "execution_count": 22,
   "metadata": {
    "collapsed": false
   },
   "outputs": [
    {
     "name": "stdout",
     "output_type": "stream",
     "text": [
      "[[ 0.  0.]\n",
      " [ 0.  0.]\n",
      " [ 0.  1.]\n",
      " [ 0.  0.]\n",
      " [ 0.  0.]\n",
      " [ 0.  0.]\n",
      " [ 0.  0.]\n",
      " [ 0.  0.]\n",
      " [ 0.  0.]\n",
      " [ 0.  0.]\n",
      " [ 0.  0.]\n",
      " [ 0.  0.]\n",
      " [ 0.  0.]\n",
      " [ 0.  0.]\n",
      " [ 0.  0.]\n",
      " [ 0.  0.]\n",
      " [ 0.  0.]\n",
      " [ 0.  0.]\n",
      " [ 0.  0.]\n",
      " [ 0.  0.]\n",
      " [ 0.  0.]\n",
      " [ 0.  0.]\n",
      " [ 0.  0.]\n",
      " [ 0.  0.]\n",
      " [ 0.  0.]\n",
      " [ 0.  0.]\n",
      " [ 0.  0.]]\n"
     ]
    }
   ],
   "source": [
    "B = np.zeros((27, 2))\n",
    "B[2, 1] = 1\n",
    "print B"
   ]
  },
  {
   "cell_type": "code",
   "execution_count": 30,
   "metadata": {
    "collapsed": false
   },
   "outputs": [
    {
     "ename": "NameError",
     "evalue": "name 'e' is not defined",
     "output_type": "error",
     "traceback": [
      "\u001b[0;31m---------------------------------------------------------------------------\u001b[0m",
      "\u001b[0;31mNameError\u001b[0m                                 Traceback (most recent call last)",
      "\u001b[0;32m<ipython-input-30-9ec5fcf1d014>\u001b[0m in \u001b[0;36m<module>\u001b[0;34m()\u001b[0m\n\u001b[1;32m      1\u001b[0m \u001b[0;32mimport\u001b[0m \u001b[0mnumpy\u001b[0m \u001b[0;32mas\u001b[0m \u001b[0mnp\u001b[0m\u001b[0;34m\u001b[0m\u001b[0m\n\u001b[1;32m      2\u001b[0m \u001b[0;34m\u001b[0m\u001b[0m\n\u001b[0;32m----> 3\u001b[0;31m \u001b[0ma\u001b[0m \u001b[0;34m=\u001b[0m \u001b[0;34m[\u001b[0m\u001b[0;34m[\u001b[0m\u001b[0me\u001b[0m\u001b[0;34m,\u001b[0m \u001b[0me\u001b[0m\u001b[0;34m*\u001b[0m\u001b[0me\u001b[0m\u001b[0;34m]\u001b[0m\u001b[0;34m,\u001b[0m \u001b[0;34m[\u001b[0m\u001b[0me\u001b[0m\u001b[0;34m*\u001b[0m\u001b[0me\u001b[0m\u001b[0;34m*\u001b[0m\u001b[0me\u001b[0m\u001b[0;34m,\u001b[0m \u001b[0me\u001b[0m\u001b[0;34m*\u001b[0m\u001b[0me\u001b[0m\u001b[0;34m*\u001b[0m\u001b[0me\u001b[0m\u001b[0;34m*\u001b[0m\u001b[0me\u001b[0m\u001b[0;34m]\u001b[0m\u001b[0;34m]\u001b[0m\u001b[0;34m\u001b[0m\u001b[0m\n\u001b[0m",
      "\u001b[0;31mNameError\u001b[0m: name 'e' is not defined"
     ]
    }
   ],
   "source": []
  },
  {
   "cell_type": "code",
   "execution_count": 100,
   "metadata": {
    "collapsed": false
   },
   "outputs": [
    {
     "name": "stdout",
     "output_type": "stream",
     "text": [
      "[[4 1]\n",
      " [2 2]]\n",
      "[[4 0]\n",
      " [0 2]]\n",
      "[2 3]\n",
      "\n",
      "\n",
      "[1 2]\n",
      "2.31326168752\n",
      "[ 4.12692801  2.31326169]\n",
      "[5 4]\n"
     ]
    }
   ],
   "source": [
    "import numpy as np\n",
    "from scipy.misc import logsumexp\n",
    "\n",
    "a = [[1, 0], [0, 1]]\n",
    "b = [[4, 1], [2, 2]]\n",
    "\n",
    "A = np.dot(a, b)\n",
    "B = np.multiply(a, b)  # element wise\n",
    "C = np.array([2, 3])\n",
    "\n",
    "print A\n",
    "print B\n",
    "print C\n",
    "print '\\n'\n",
    "# # print np.multiply(A, C)\n",
    "# M = np.log(C)\n",
    "# N = np.log(np.multiply(A, C))\n",
    "# # M[1]\n",
    "# N[0][0]\n",
    "\n",
    "# D = C[:, np.newaxis]\n",
    "# print D\n",
    "\n",
    "# print A + D\n",
    "print A[:, 1]\n",
    "print logsumexp(A[:, 1])\n",
    "print logsumexp(A, axis = 0)\n",
    "print np.sum(A, axis=1)"
   ]
  },
  {
   "cell_type": "code",
   "execution_count": 53,
   "metadata": {
    "collapsed": false
   },
   "outputs": [
    {
     "name": "stdout",
     "output_type": "stream",
     "text": [
      "[[1 2]\n",
      " [3 5]]\n"
     ]
    }
   ],
   "source": [
    "import numpy as np\n",
    "\n",
    "l = []\n",
    "a = np.array([1, 2])\n",
    "b = np.array([3, 5])\n",
    "l.append(a)\n",
    "l.append(b)\n",
    "print np.matrix(l)"
   ]
  },
  {
   "cell_type": "code",
   "execution_count": 64,
   "metadata": {
    "collapsed": false
   },
   "outputs": [
    {
     "name": "stdout",
     "output_type": "stream",
     "text": [
      "['C', 'B', 'A', 'D']\n"
     ]
    }
   ],
   "source": [
    "arr = ['A','B','C']\n",
    "arr.insert(0,'D')\n",
    "arr.reverse()\n",
    "print arr"
   ]
  },
  {
   "cell_type": "code",
   "execution_count": 93,
   "metadata": {
    "collapsed": false
   },
   "outputs": [
    {
     "name": "stdout",
     "output_type": "stream",
     "text": [
      "[[ 4.  1.]\n",
      " [ 2.  2.]]\n",
      "[[ 4.  0.]\n",
      " [ 0.  2.]]\n",
      "[ 2.  3.]\n",
      "\n",
      "\n",
      "[[ 2.]\n",
      " [ 3.]]\n",
      "[[ 8.  3.]\n",
      " [ 4.  6.]]\n",
      "\n",
      "\n",
      "[[ 4.  1.]\n",
      " [ 2.  2.]]\n",
      "[ 10.  10.]\n"
     ]
    },
    {
     "data": {
      "text/plain": [
       "array([[ 1.38629436,  0.        ],\n",
       "       [ 0.69314718,  0.69314718]])"
      ]
     },
     "execution_count": 93,
     "metadata": {},
     "output_type": "execute_result"
    }
   ],
   "source": [
    "import numpy as np\n",
    "\n",
    "a = [[1.0, 0.0], [0.0, 1.0]]\n",
    "b = [[4.0, 1.0], [2.0, 2.0]]\n",
    "\n",
    "A = np.dot(a, b)\n",
    "B = np.multiply(a, b)  # element wise\n",
    "C = np.array([2.0, 3.0])\n",
    "\n",
    "print A\n",
    "print B\n",
    "print C\n",
    "print '\\n'\n",
    "\n",
    "D = C[:, np.newaxis]\n",
    "print D\n",
    "\n",
    "print A * C\n",
    "A / 2\n",
    "\n",
    "print '\\n'\n",
    "print A\n",
    "print np.sum(A, axis=0) + np.array([4, 7])\n",
    "# print A / np.sum(A, axis=1)[:, np.newaxis]\n",
    "# A.shape\n",
    "\n",
    "np.log(A)"
   ]
  },
  {
   "cell_type": "code",
   "execution_count": 71,
   "metadata": {
    "collapsed": false
   },
   "outputs": [
    {
     "name": "stdout",
     "output_type": "stream",
     "text": [
      "0\n",
      "1\n",
      "2\n"
     ]
    }
   ],
   "source": [
    "for i in range(0, 3):\n",
    "    print i"
   ]
  },
  {
   "cell_type": "code",
   "execution_count": 92,
   "metadata": {
    "collapsed": false
   },
   "outputs": [
    {
     "name": "stdout",
     "output_type": "stream",
     "text": [
      "[[ 0.14051924  0.00664426  0.02277217  0.00021809  0.02657583  0.00470169\n",
      "   0.01556689  0.03248688  0.09182782  0.0135339   0.00550106  0.06321735\n",
      "   0.01056519  0.06340131  0.00217979  0.03695537  0.09980184  0.01994291\n",
      "   0.05285106  0.04548011  0.04521446  0.05977286  0.05502936  0.0570045\n",
      "   0.0026755   0.00543058  0.02012997]]\n"
     ]
    }
   ],
   "source": [
    "import numpy as np\n",
    "\n",
    "print np.random.dirichlet(np.ones(27),size=1)"
   ]
  },
  {
   "cell_type": "code",
   "execution_count": 94,
   "metadata": {
    "collapsed": false
   },
   "outputs": [
    {
     "name": "stdout",
     "output_type": "stream",
     "text": [
      "4\n"
     ]
    }
   ],
   "source": [
    "l = [1, 2, 3, 4]\n",
    "print l[-1]"
   ]
  },
  {
   "cell_type": "code",
   "execution_count": null,
   "metadata": {
    "collapsed": true
   },
   "outputs": [],
   "source": []
  }
 ],
 "metadata": {
  "kernelspec": {
   "display_name": "Python 2",
   "language": "python",
   "name": "python2"
  },
  "language_info": {
   "codemirror_mode": {
    "name": "ipython",
    "version": 2
   },
   "file_extension": ".py",
   "mimetype": "text/x-python",
   "name": "python",
   "nbconvert_exporter": "python",
   "pygments_lexer": "ipython2",
   "version": "2.7.11"
  }
 },
 "nbformat": 4,
 "nbformat_minor": 0
}
