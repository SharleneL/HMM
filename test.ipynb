{
 "cells": [
  {
   "cell_type": "code",
   "execution_count": 7,
   "metadata": {
    "collapsed": false
   },
   "outputs": [
    {
     "name": "stdout",
     "output_type": "stream",
     "text": [
      "HI THI S IS SHALIN BY SLAFD\n"
     ]
    }
   ],
   "source": [
    "import re\n",
    "\n",
    "line = '   hi thi4s Is  shalin 3 23, by 34slafd, '\n",
    "line = re.sub('[^a-zA-Z]+', ' ', line).strip().upper()\n",
    "# line = line.strip().upper()\n",
    "print line"
   ]
  },
  {
   "cell_type": "code",
   "execution_count": 6,
   "metadata": {
    "collapsed": false
   },
   "outputs": [
    {
     "name": "stdout",
     "output_type": "stream",
     "text": [
      "True\n",
      "8\n",
      "2\n",
      "7\n",
      "3\n",
      "r\n",
      "k\n",
      "j\n",
      "s\n",
      "d\n",
      "f\n",
      "h\n",
      "a\n"
     ]
    }
   ],
   "source": [
    "s = '98273rkjsdfha'\n",
    "print 'sd' in s\n",
    "for i in range(1, len(s)):\n",
    "    print s[i]"
   ]
  },
  {
   "cell_type": "code",
   "execution_count": 7,
   "metadata": {
    "collapsed": false
   },
   "outputs": [
    {
     "name": "stdout",
     "output_type": "stream",
     "text": [
      "3\n"
     ]
    }
   ],
   "source": [
    "d = dict()\n",
    "d[1] = 2\n",
    "d[2] = 4\n",
    "d[3] = 1\n",
    "\n",
    "print len(d)"
   ]
  },
  {
   "cell_type": "code",
   "execution_count": 15,
   "metadata": {
    "collapsed": false
   },
   "outputs": [
    {
     "name": "stdout",
     "output_type": "stream",
     "text": [
      "[ 0.  0.  0.  0.  0.]\n",
      "33\n"
     ]
    }
   ],
   "source": [
    "import numpy as np\n",
    "\n",
    "a = np.zeros(5)\n",
    "print a\n",
    "print ord('A') - ord(' ')"
   ]
  },
  {
   "cell_type": "code",
   "execution_count": 18,
   "metadata": {
    "collapsed": false
   },
   "outputs": [
    {
     "name": "stdout",
     "output_type": "stream",
     "text": [
      "65\n",
      "A\n"
     ]
    }
   ],
   "source": [
    "print ord('A')\n",
    "print chr(65)"
   ]
  },
  {
   "cell_type": "code",
   "execution_count": 21,
   "metadata": {
    "collapsed": false
   },
   "outputs": [
    {
     "name": "stdout",
     "output_type": "stream",
     "text": [
      "{' ': 26, 'A': 0, 'C': 2, 'B': 1, 'E': 4, 'D': 3, 'G': 6, 'F': 5, 'I': 8, 'H': 7, 'K': 10, 'J': 9, 'M': 12, 'L': 11, 'O': 14, 'N': 13, 'Q': 16, 'P': 15, 'S': 18, 'R': 17, 'U': 20, 'T': 19, 'W': 22, 'V': 21, 'Y': 24, 'X': 23, 'Z': 25}\n"
     ]
    }
   ],
   "source": [
    "dic = dict()\n",
    "for i in range(26):\n",
    "    dic[chr(65 + i)] = i\n",
    "dic[' '] = 26\n",
    "print dic"
   ]
  },
  {
   "cell_type": "code",
   "execution_count": 22,
   "metadata": {
    "collapsed": false
   },
   "outputs": [
    {
     "name": "stdout",
     "output_type": "stream",
     "text": [
      "[[ 0.  0.]\n",
      " [ 0.  0.]\n",
      " [ 0.  1.]\n",
      " [ 0.  0.]\n",
      " [ 0.  0.]\n",
      " [ 0.  0.]\n",
      " [ 0.  0.]\n",
      " [ 0.  0.]\n",
      " [ 0.  0.]\n",
      " [ 0.  0.]\n",
      " [ 0.  0.]\n",
      " [ 0.  0.]\n",
      " [ 0.  0.]\n",
      " [ 0.  0.]\n",
      " [ 0.  0.]\n",
      " [ 0.  0.]\n",
      " [ 0.  0.]\n",
      " [ 0.  0.]\n",
      " [ 0.  0.]\n",
      " [ 0.  0.]\n",
      " [ 0.  0.]\n",
      " [ 0.  0.]\n",
      " [ 0.  0.]\n",
      " [ 0.  0.]\n",
      " [ 0.  0.]\n",
      " [ 0.  0.]\n",
      " [ 0.  0.]]\n"
     ]
    }
   ],
   "source": [
    "B = np.zeros((27, 2))\n",
    "B[2, 1] = 1\n",
    "print B"
   ]
  },
  {
   "cell_type": "code",
   "execution_count": 30,
   "metadata": {
    "collapsed": false
   },
   "outputs": [
    {
     "ename": "NameError",
     "evalue": "name 'e' is not defined",
     "output_type": "error",
     "traceback": [
      "\u001b[0;31m---------------------------------------------------------------------------\u001b[0m",
      "\u001b[0;31mNameError\u001b[0m                                 Traceback (most recent call last)",
      "\u001b[0;32m<ipython-input-30-9ec5fcf1d014>\u001b[0m in \u001b[0;36m<module>\u001b[0;34m()\u001b[0m\n\u001b[1;32m      1\u001b[0m \u001b[0;32mimport\u001b[0m \u001b[0mnumpy\u001b[0m \u001b[0;32mas\u001b[0m \u001b[0mnp\u001b[0m\u001b[0;34m\u001b[0m\u001b[0m\n\u001b[1;32m      2\u001b[0m \u001b[0;34m\u001b[0m\u001b[0m\n\u001b[0;32m----> 3\u001b[0;31m \u001b[0ma\u001b[0m \u001b[0;34m=\u001b[0m \u001b[0;34m[\u001b[0m\u001b[0;34m[\u001b[0m\u001b[0me\u001b[0m\u001b[0;34m,\u001b[0m \u001b[0me\u001b[0m\u001b[0;34m*\u001b[0m\u001b[0me\u001b[0m\u001b[0;34m]\u001b[0m\u001b[0;34m,\u001b[0m \u001b[0;34m[\u001b[0m\u001b[0me\u001b[0m\u001b[0;34m*\u001b[0m\u001b[0me\u001b[0m\u001b[0;34m*\u001b[0m\u001b[0me\u001b[0m\u001b[0;34m,\u001b[0m \u001b[0me\u001b[0m\u001b[0;34m*\u001b[0m\u001b[0me\u001b[0m\u001b[0;34m*\u001b[0m\u001b[0me\u001b[0m\u001b[0;34m*\u001b[0m\u001b[0me\u001b[0m\u001b[0;34m]\u001b[0m\u001b[0;34m]\u001b[0m\u001b[0;34m\u001b[0m\u001b[0m\n\u001b[0m",
      "\u001b[0;31mNameError\u001b[0m: name 'e' is not defined"
     ]
    }
   ],
   "source": []
  },
  {
   "cell_type": "code",
   "execution_count": 100,
   "metadata": {
    "collapsed": false
   },
   "outputs": [
    {
     "name": "stdout",
     "output_type": "stream",
     "text": [
      "[[4 1]\n",
      " [2 2]]\n",
      "[[4 0]\n",
      " [0 2]]\n",
      "[2 3]\n",
      "\n",
      "\n",
      "[1 2]\n",
      "2.31326168752\n",
      "[ 4.12692801  2.31326169]\n",
      "[5 4]\n"
     ]
    }
   ],
   "source": [
    "import numpy as np\n",
    "from scipy.misc import logsumexp\n",
    "\n",
    "a = [[1, 0], [0, 1]]\n",
    "b = [[4, 1], [2, 2]]\n",
    "\n",
    "A = np.dot(a, b)\n",
    "B = np.multiply(a, b)  # element wise\n",
    "C = np.array([2, 3])\n",
    "\n",
    "print A\n",
    "print B\n",
    "print C\n",
    "print '\\n'\n",
    "# # print np.multiply(A, C)\n",
    "# M = np.log(C)\n",
    "# N = np.log(np.multiply(A, C))\n",
    "# # M[1]\n",
    "# N[0][0]\n",
    "\n",
    "# D = C[:, np.newaxis]\n",
    "# print D\n",
    "\n",
    "# print A + D\n",
    "print A[:, 1]\n",
    "print logsumexp(A[:, 1])\n",
    "print logsumexp(A, axis = 0)\n",
    "print np.sum(A, axis=1)"
   ]
  },
  {
   "cell_type": "code",
   "execution_count": 53,
   "metadata": {
    "collapsed": false
   },
   "outputs": [
    {
     "name": "stdout",
     "output_type": "stream",
     "text": [
      "[[1 2]\n",
      " [3 5]]\n"
     ]
    }
   ],
   "source": [
    "import numpy as np\n",
    "\n",
    "l = []\n",
    "a = np.array([1, 2])\n",
    "b = np.array([3, 5])\n",
    "l.append(a)\n",
    "l.append(b)\n",
    "print np.matrix(l)"
   ]
  },
  {
   "cell_type": "code",
   "execution_count": 64,
   "metadata": {
    "collapsed": false
   },
   "outputs": [
    {
     "name": "stdout",
     "output_type": "stream",
     "text": [
      "['C', 'B', 'A', 'D']\n"
     ]
    }
   ],
   "source": [
    "arr = ['A','B','C']\n",
    "arr.insert(0,'D')\n",
    "arr.reverse()\n",
    "print arr"
   ]
  },
  {
   "cell_type": "code",
   "execution_count": 93,
   "metadata": {
    "collapsed": false
   },
   "outputs": [
    {
     "name": "stdout",
     "output_type": "stream",
     "text": [
      "[[ 4.  1.]\n",
      " [ 2.  2.]]\n",
      "[[ 4.  0.]\n",
      " [ 0.  2.]]\n",
      "[ 2.  3.]\n",
      "\n",
      "\n",
      "[[ 2.]\n",
      " [ 3.]]\n",
      "[[ 8.  3.]\n",
      " [ 4.  6.]]\n",
      "\n",
      "\n",
      "[[ 4.  1.]\n",
      " [ 2.  2.]]\n",
      "[ 10.  10.]\n"
     ]
    },
    {
     "data": {
      "text/plain": [
       "array([[ 1.38629436,  0.        ],\n",
       "       [ 0.69314718,  0.69314718]])"
      ]
     },
     "execution_count": 93,
     "metadata": {},
     "output_type": "execute_result"
    }
   ],
   "source": [
    "import numpy as np\n",
    "\n",
    "a = [[1.0, 0.0], [0.0, 1.0]]\n",
    "b = [[4.0, 1.0], [2.0, 2.0]]\n",
    "\n",
    "A = np.dot(a, b)\n",
    "B = np.multiply(a, b)  # element wise\n",
    "C = np.array([2.0, 3.0])\n",
    "\n",
    "print A\n",
    "print B\n",
    "print C\n",
    "print '\\n'\n",
    "\n",
    "D = C[:, np.newaxis]\n",
    "print D\n",
    "\n",
    "print A * C\n",
    "A / 2\n",
    "\n",
    "print '\\n'\n",
    "print A\n",
    "print np.sum(A, axis=0) + np.array([4, 7])\n",
    "# print A / np.sum(A, axis=1)[:, np.newaxis]\n",
    "# A.shape\n",
    "\n",
    "np.log(A)"
   ]
  },
  {
   "cell_type": "code",
   "execution_count": 71,
   "metadata": {
    "collapsed": false
   },
   "outputs": [
    {
     "name": "stdout",
     "output_type": "stream",
     "text": [
      "0\n",
      "1\n",
      "2\n"
     ]
    }
   ],
   "source": [
    "for i in range(0, 3):\n",
    "    print i"
   ]
  },
  {
   "cell_type": "code",
   "execution_count": 102,
   "metadata": {
    "collapsed": false
   },
   "outputs": [
    {
     "name": "stdout",
     "output_type": "stream",
     "text": [
      "[ 0.02312284  0.01062951  0.02664678  0.05175905  0.04480709  0.0272776\n",
      "  0.00469599  0.0161693   0.00786482  0.04484716  0.00354797  0.00667852\n",
      "  0.07295409  0.01995659  0.08482007  0.01110972  0.00448074  0.01167143\n",
      "  0.02017811  0.03238951  0.00637706  0.09611833  0.0350238   0.0028546\n",
      "  0.1437595   0.04620236  0.14405746]\n"
     ]
    }
   ],
   "source": [
    "import numpy as np\n",
    "\n",
    "l = np.random.dirichlet(np.ones(27),size=1)\n",
    "print l[0]"
   ]
  },
  {
   "cell_type": "code",
   "execution_count": 94,
   "metadata": {
    "collapsed": false
   },
   "outputs": [
    {
     "name": "stdout",
     "output_type": "stream",
     "text": [
      "4\n"
     ]
    }
   ],
   "source": [
    "l = [1, 2, 3, 4]\n",
    "print l[-1]"
   ]
  },
  {
   "cell_type": "code",
   "execution_count": 107,
   "metadata": {
    "collapsed": false
   },
   "outputs": [
    {
     "name": "stdout",
     "output_type": "stream",
     "text": [
      "0.00011\n"
     ]
    }
   ],
   "source": [
    "print 1e-5 + 0.0001"
   ]
  },
  {
   "cell_type": "code",
   "execution_count": 120,
   "metadata": {
    "collapsed": false
   },
   "outputs": [
    {
     "name": "stdout",
     "output_type": "stream",
     "text": [
      "A0:\n",
      "[16  0  8 14  4 20 18]\n",
      "['Q', 'A', 'I', 'O', 'E', 'U', 'S']\n",
      "[1.0, 0.27875240099999998, 0.22532955700000001, 0.20859545099999999, 0.13937620000000001, 0.135369663, 0.0069983927099999997]\n",
      "A1:\n",
      "[16 26 19 13 10 17 18]\n",
      "['Q', '[', 'T', 'N', 'K', 'R', 'S']\n",
      "[1.0, 0.30859478899999998, 0.098658108100000003, 0.0961097437, 0.095745691699999996, 0.063405733699999994, 0.062793092999999994]\n",
      "\n",
      "\n",
      "[  2.78752401e-01   1.24166202e-18   2.44387237e-03   2.41589415e-24\n",
      "   1.39376200e-01   5.90119590e-25   4.90652895e-27   5.03046270e-14\n",
      "   2.25329557e-01   1.75119914e-37   4.84838269e-34   2.71948586e-03\n",
      "   2.94218087e-29   7.41735247e-28   2.08595451e-01   3.08386213e-15\n",
      "   1.00000000e+00   7.59286387e-59   6.99839271e-03   2.56550625e-13\n",
      "   1.35369663e-01   7.50254693e-85   5.75820645e-21   3.40981529e-04\n",
      "   7.39851018e-05   1.33249330e-58   9.41542497e-09]\n",
      "[  1.05046820e-13   1.74138235e-02   6.57304018e-03   3.56771018e-02\n",
      "   1.73866643e-16   4.67200143e-03   2.18431236e-02   4.65379883e-02\n",
      "   4.21611783e-05   7.88779462e-03   9.57456917e-02   4.85998242e-03\n",
      "   6.05539926e-02   9.61097437e-02   5.07217366e-12   3.76187128e-03\n",
      "   1.00000000e+00   6.34057337e-02   6.27930930e-02   9.86581081e-02\n",
      "   3.02633617e-09   2.48768907e-03   2.83960606e-02   2.09822636e-40\n",
      "   2.59770617e-02   8.00914531e-03   3.08594789e-01]\n"
     ]
    }
   ],
   "source": [
    "import numpy as np\n",
    "\n",
    "# A = [[  2.42995968e-04,   1.22386446e-01],\n",
    "#  [  2.39561379e-02,   4.77556284e-16],\n",
    "#  [  3.86445056e-02,   2.46660729e-05],\n",
    "#  [  7.48992104e-02,   6.69143886e-07],\n",
    "#  [  1.19827010e-06,   2.05229533e-01],\n",
    "#  [  4.28844444e-02,   1.61571568e-18],\n",
    "#  [  2.43660067e-02,   1.68204842e-03],\n",
    "#  [  1.01347900e-01,   9.27182934e-03],\n",
    "#  [  2.12711086e-10,   1.12152623e-01],\n",
    "#  [  1.62665134e-03,   2.12232237e-32],\n",
    "#  [  6.58053955e-03,   4.37985457e-09],\n",
    "#  [  5.28622002e-02,   1.14055540e-02],\n",
    "#  [  4.71728889e-02,   3.78263149e-20],\n",
    "#  [  1.14309018e-01,   2.01778559e-07],\n",
    "#  [  8.39301924e-15,   1.26852935e-01],\n",
    "#  [  2.13094211e-02,   1.63468164e-03],\n",
    "#  [  2.36603832e-03,   9.71521365e-23],\n",
    "#  [  1.04105683e-01,   2.47718013e-09],\n",
    "#  [  1.07432927e-01,   6.94921483e-10],\n",
    "#  [  1.37425390e-01,   7.42933037e-04],\n",
    "#  [  1.23598443e-03,   4.22568466e-02],\n",
    "#  [  2.09246513e-02,   9.37368279e-35],\n",
    "#  [  3.95572031e-02,   1.19095014e-31],\n",
    "#  [  1.48198365e-03,   6.85959322e-05],\n",
    "#  [  3.51930823e-02,   1.68525270e-06],\n",
    "#  [  7.39386972e-05,   2.30633767e-58],\n",
    "#  [  3.41560233e-12,   3.66288745e-01]]\n",
    "\n",
    "A = [[  2.78752401e-01,   1.05046820e-13],\n",
    " [  1.24166202e-18,   1.74138235e-02],\n",
    " [  2.44387237e-03,   6.57304018e-03],\n",
    " [  2.41589415e-24,   3.56771018e-02],\n",
    " [  1.39376200e-01,   1.73866643e-16],\n",
    " [  5.90119590e-25,   4.67200143e-03],\n",
    " [  4.90652895e-27,   2.18431236e-02],\n",
    " [  5.03046270e-14,   4.65379883e-02],\n",
    " [  2.25329557e-01,   4.21611783e-05],\n",
    " [  1.75119914e-37,   7.88779462e-03],\n",
    " [  4.84838269e-34,   9.57456917e-02],\n",
    " [  2.71948586e-03,   4.85998242e-03],\n",
    " [  2.94218087e-29,   6.05539926e-02],\n",
    " [  7.41735247e-28,   9.61097437e-02],\n",
    " [  2.08595451e-01,   5.07217366e-12],\n",
    " [  3.08386213e-15,   3.76187128e-03],\n",
    " [  1.00000000e+00,   1.00000000e+00],\n",
    " [  7.59286387e-59,   6.34057337e-02],\n",
    " [  6.99839271e-03,   6.27930930e-02],\n",
    " [  2.56550625e-13,   9.86581081e-02],\n",
    " [  1.35369663e-01,   3.02633617e-09],\n",
    " [  7.50254693e-85,   2.48768907e-03],\n",
    " [  5.75820645e-21,   2.83960606e-02],\n",
    " [  3.40981529e-04,   2.09822636e-40],\n",
    " [  7.39851018e-05,   2.59770617e-02],\n",
    " [  1.33249330e-58,   8.00914531e-03],\n",
    " [  9.41542497e-09,   3.08594789e-01]]\n",
    "\n",
    "A0 = np.array([a[0] for a in A])\n",
    "A1 = np.array([a[1] for a in A])\n",
    "\n",
    "print 'A0:'\n",
    "sort_index0 = np.argsort(A0)[::-1][:7]\n",
    "print sort_index0\n",
    "print [chr(ord('A') + idx) for idx in sort_index0]\n",
    "print [A0[idx] for idx in sort_index0]\n",
    "print 'A1:'\n",
    "sort_index1 = np.argsort(A1)[::-1][:7]\n",
    "print sort_index1\n",
    "print [chr(ord('A') + idx) for idx in sort_index1]\n",
    "print [A1[idx] for idx in sort_index1]\n",
    "\n",
    "\n",
    "print '\\n'\n",
    "print A0\n",
    "print A1"
   ]
  },
  {
   "cell_type": "code",
   "execution_count": null,
   "metadata": {
    "collapsed": true
   },
   "outputs": [],
   "source": []
  }
 ],
 "metadata": {
  "kernelspec": {
   "display_name": "Python 2",
   "language": "python",
   "name": "python2"
  },
  "language_info": {
   "codemirror_mode": {
    "name": "ipython",
    "version": 2
   },
   "file_extension": ".py",
   "mimetype": "text/x-python",
   "name": "python",
   "nbconvert_exporter": "python",
   "pygments_lexer": "ipython2",
   "version": "2.7.11"
  }
 },
 "nbformat": 4,
 "nbformat_minor": 0
}
